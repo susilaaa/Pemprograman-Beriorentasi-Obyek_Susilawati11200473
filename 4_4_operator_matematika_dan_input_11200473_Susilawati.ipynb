{
 "cells": [
  {
   "cell_type": "code",
   "execution_count": 1,
   "id": "aeccab52",
   "metadata": {},
   "outputs": [
    {
     "name": "stdout",
     "output_type": "stream",
     "text": [
      "Masukkan nilai a = 10\n",
      "Masukkan nilai b = 5\n",
      "10 + 5 = 15\n",
      "10 - 5 = 5\n",
      "10 * 5 = 50\n",
      "10 / 5 = 2.0\n",
      "10 ^ 5 = 100000\n",
      "10 % 5 = 0\n"
     ]
    }
   ],
   "source": [
    "##Jawaban Tugas Praktek 3.4\n",
    "\n",
    "a = int(input(\"Masukkan nilai a = \"))\n",
    "b = int(input(\"Masukkan nilai b = \"))\n",
    "\n",
    "#Penjumlahan \n",
    "c = a + b\n",
    "print(a, \"+\", b, \"=\", c)\n",
    "\n",
    "#Pengurangan \n",
    "c = a - b\n",
    "print(a, \"-\", b, \"=\", c)\n",
    "\n",
    "#Perkalian \n",
    "c = a * b\n",
    "print(a, \"*\", b, \"=\", c)\n",
    "\n",
    "#Pembagian \n",
    "c = a / b\n",
    "print(a, \"/\", b, \"=\", c)\n",
    "\n",
    "#Pemangkatan\n",
    "c = a ** b\n",
    "print(a, \"^\", b, \"=\", c)\n",
    "\n",
    "#Modulus \n",
    "c = a % b\n",
    "print(a, \"%\", b, \"=\", c)"
   ]
  }
 ],
 "metadata": {
  "kernelspec": {
   "display_name": "Python 3 (ipykernel)",
   "language": "python",
   "name": "python3"
  },
  "language_info": {
   "codemirror_mode": {
    "name": "ipython",
    "version": 3
   },
   "file_extension": ".py",
   "mimetype": "text/x-python",
   "name": "python",
   "nbconvert_exporter": "python",
   "pygments_lexer": "ipython3",
   "version": "3.9.5"
  }
 },
 "nbformat": 4,
 "nbformat_minor": 5
}
