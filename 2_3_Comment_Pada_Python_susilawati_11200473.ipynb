{
 "cells": [
  {
   "cell_type": "code",
   "execution_count": 1,
   "id": "060655b6",
   "metadata": {},
   "outputs": [
    {
     "name": "stdout",
     "output_type": "stream",
     "text": [
      "25\n"
     ]
    }
   ],
   "source": [
    "#ini adalah fungsi matematika\n",
    "#pada fungsi matematika ini akan menghasilkan output dari penghitungan matematika yang diiputkan\n",
    "print(10*2+5)"
   ]
  },
  {
   "cell_type": "code",
   "execution_count": 2,
   "id": "79dcfb0b",
   "metadata": {},
   "outputs": [
    {
     "name": "stdout",
     "output_type": "stream",
     "text": [
      "20\n"
     ]
    }
   ],
   "source": [
    "#ini adalah fungsi mencetak kalimat\n",
    "#pada fungsi kalimat akan menghasilkan output kalimat atau kata\n",
    "print(\"20\")"
   ]
  },
  {
   "cell_type": "code",
   "execution_count": 3,
   "id": "f4c82961",
   "metadata": {},
   "outputs": [
    {
     "name": "stdout",
     "output_type": "stream",
     "text": [
      "Susilawati\n"
     ]
    }
   ],
   "source": [
    "#Assalamu'alaikum, nama saya Susilawati\n",
    "print(\"Susilawati\")"
   ]
  },
  {
   "cell_type": "code",
   "execution_count": null,
   "id": "cc2f21f1",
   "metadata": {},
   "outputs": [],
   "source": [
    "#ini adalah NIM saya, saya angkatan 2021\n",
    "print(\"11200473\")"
   ]
  }
 ],
 "metadata": {
  "kernelspec": {
   "display_name": "Python 3 (ipykernel)",
   "language": "python",
   "name": "python3"
  },
  "language_info": {
   "codemirror_mode": {
    "name": "ipython",
    "version": 3
   },
   "file_extension": ".py",
   "mimetype": "text/x-python",
   "name": "python",
   "nbconvert_exporter": "python",
   "pygments_lexer": "ipython3",
   "version": "3.10.0"
  }
 },
 "nbformat": 4,
 "nbformat_minor": 5
}
