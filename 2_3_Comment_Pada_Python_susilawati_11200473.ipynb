{
 "cells": [
  {
   "cell_type": "code",
   "execution_count": 1,
   "id": "7ef8a4a0",
   "metadata": {},
   "outputs": [
    {
     "name": "stdout",
     "output_type": "stream",
     "text": [
      "25\n"
     ]
    }
   ],
   "source": [
    "#ini adalah fungsi matematika\n",
    "\n",
    "print(10*2+5)"
   ]
  },
  {
   "cell_type": "code",
   "execution_count": 2,
   "id": "6b5a9dd2",
   "metadata": {},
   "outputs": [
    {
     "name": "stdout",
     "output_type": "stream",
     "text": [
      "20\n"
     ]
    }
   ],
   "source": [
    "#ini adalah fungsi mencetak kalimat\n",
    "\n",
    "print(\"20\")"
   ]
  },
  {
   "cell_type": "code",
   "execution_count": 4,
   "id": "0f3c5816",
   "metadata": {},
   "outputs": [
    {
     "name": "stdout",
     "output_type": "stream",
     "text": [
      "suherdi\n",
      "11200472\n"
     ]
    }
   ],
   "source": [
    "print (\"suherdi\")\n",
    "print (\"11200472\")\n"
   ]
  }
 ],
 "metadata": {
  "kernelspec": {
   "display_name": "Python 3 (ipykernel)",
   "language": "python",
   "name": "python3"
  },
  "language_info": {
   "codemirror_mode": {
    "name": "ipython",
    "version": 3
   },
   "file_extension": ".py",
   "mimetype": "text/x-python",
   "name": "python",
   "nbconvert_exporter": "python",
   "pygments_lexer": "ipython3",
   "version": "3.10.0"
  }
 },
 "nbformat": 4,
 "nbformat_minor": 5
}
