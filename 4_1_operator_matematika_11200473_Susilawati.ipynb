{
 "cells": [
  {
   "cell_type": "code",
   "execution_count": null,
   "id": "9d37df0c",
   "metadata": {},
   "outputs": [],
   "source": [
    "##Jawaban Tugas Praktek 3.1\n",
    "a = 10\n",
    "b = 5\n",
    "\n",
    "#Penjumlahan\n",
    "c = a + b\n",
    "print(a, \"+\", b, \"=\", c)\n",
    "\n",
    "#Pengurangan\n",
    "c = a - b\n",
    "print(a, \"-\", b, \"=\", c)\n",
    "\n",
    "#Perkalian\n",
    "c = a * b\n",
    "print(a, \"*\", b, \"=\", c)\n",
    "\n",
    "#Pembagian\n",
    "c = a / b\n",
    "print(a, \"/\", b, \"=\", c)\n",
    "\n",
    "#Pemangkatan\n",
    "c = a ** b\n",
    "print(a, \"^\", b, \"=\", c)\n",
    "\n",
    "#Modulus\n",
    "c = a % b\n",
    "print(a, \"%\", b, \"=\", c)"
   ]
  }
 ],
 "metadata": {
  "kernelspec": {
   "display_name": "Python 3 (ipykernel)",
   "language": "python",
   "name": "python3"
  },
  "language_info": {
   "codemirror_mode": {
    "name": "ipython",
    "version": 3
   },
   "file_extension": ".py",
   "mimetype": "text/x-python",
   "name": "python",
   "nbconvert_exporter": "python",
   "pygments_lexer": "ipython3",
   "version": "3.9.5"
  }
 },
 "nbformat": 4,
 "nbformat_minor": 5
}
