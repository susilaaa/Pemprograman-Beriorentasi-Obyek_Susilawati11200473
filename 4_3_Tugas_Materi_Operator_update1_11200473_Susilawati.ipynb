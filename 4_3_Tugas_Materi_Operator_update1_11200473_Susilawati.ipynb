{
 "cells": [
  {
   "cell_type": "code",
   "execution_count": 1,
   "id": "209153be",
   "metadata": {},
   "outputs": [
    {
     "name": "stdout",
     "output_type": "stream",
     "text": [
      "Masukkan angka: 10\n",
      "10 termasuk bilangan genap, karena 10 dibagi 2 = 5.0\n"
     ]
    }
   ],
   "source": [
    "##Jawaban Tugas Praktek 3.3\n",
    "\n",
    "# meminta input dari user\n",
    "angka = int(input(\"Masukkan angka: \"))\n",
    "\n",
    "if angka > 0:\n",
    "   if (angka % 2) == 0:\n",
    "       print(angka, \"termasuk bilangan genap, karena\", angka, \"dibagi 2 =\", angka/2)\n",
    "   else:\n",
    "       print(angka, \"termasuk bilangan ganjil\")\n",
    "else:\n",
    "   print(angka,\"bukan bilangan genap positif\")"
   ]
  }
 ],
 "metadata": {
  "kernelspec": {
   "display_name": "Python 3 (ipykernel)",
   "language": "python",
   "name": "python3"
  },
  "language_info": {
   "codemirror_mode": {
    "name": "ipython",
    "version": 3
   },
   "file_extension": ".py",
   "mimetype": "text/x-python",
   "name": "python",
   "nbconvert_exporter": "python",
   "pygments_lexer": "ipython3",
   "version": "3.9.5"
  }
 },
 "nbformat": 4,
 "nbformat_minor": 5
}
