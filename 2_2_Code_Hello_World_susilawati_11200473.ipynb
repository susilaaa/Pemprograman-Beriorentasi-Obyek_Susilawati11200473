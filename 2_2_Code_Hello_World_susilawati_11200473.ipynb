{
 "cells": [
  {
   "cell_type": "code",
   "execution_count": 3,
   "id": "fa909330",
   "metadata": {},
   "outputs": [
    {
     "name": "stdout",
     "output_type": "stream",
     "text": [
      "25\n"
     ]
    }
   ],
   "source": [
    "print (10*2+5) "
   ]
  },
  {
   "cell_type": "code",
   "execution_count": 4,
   "id": "5c7316a5",
   "metadata": {},
   "outputs": [
    {
     "name": "stdout",
     "output_type": "stream",
     "text": [
      "2023 Aku kaya mulia\n"
     ]
    }
   ],
   "source": [
    "print (\"2023 Aku kaya mulia\")"
   ]
  },
  {
   "cell_type": "code",
   "execution_count": 6,
   "id": "ad680c9b",
   "metadata": {},
   "outputs": [
    {
     "name": "stdout",
     "output_type": "stream",
     "text": [
      "Suherdi\n"
     ]
    }
   ],
   "source": [
    "print (\"Suherdi\")"
   ]
  }
 ],
 "metadata": {
  "kernelspec": {
   "display_name": "Python 3 (ipykernel)",
   "language": "python",
   "name": "python3"
  },
  "language_info": {
   "codemirror_mode": {
    "name": "ipython",
    "version": 3
   },
   "file_extension": ".py",
   "mimetype": "text/x-python",
   "name": "python",
   "nbconvert_exporter": "python",
   "pygments_lexer": "ipython3",
   "version": "3.10.0"
  }
 },
 "nbformat": 4,
 "nbformat_minor": 5
}
