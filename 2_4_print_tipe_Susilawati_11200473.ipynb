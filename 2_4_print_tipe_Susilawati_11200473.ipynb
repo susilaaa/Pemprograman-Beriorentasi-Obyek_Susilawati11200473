{
 "cells": [
  {
   "cell_type": "code",
   "execution_count": 1,
   "id": "f0a74442",
   "metadata": {},
   "outputs": [
    {
     "name": "stdout",
     "output_type": "stream",
     "text": [
      "True\n"
     ]
    }
   ],
   "source": [
    "# tipe data Boolean\n",
    "print(True)"
   ]
  },
  {
   "cell_type": "code",
   "execution_count": 2,
   "id": "4daf17d5",
   "metadata": {},
   "outputs": [
    {
     "name": "stdout",
     "output_type": "stream",
     "text": [
      "Mari belajar python\n",
      "Belajar Python Sangat Dengan Mudah\n"
     ]
    }
   ],
   "source": [
    "# tipe data String\n",
    "print(\"Mari belajar python\")\n",
    "print(\"Belajar Python Sangat Dengan Mudah\")"
   ]
  },
  {
   "cell_type": "code",
   "execution_count": 3,
   "id": "5a1f085f",
   "metadata": {},
   "outputs": [
    {
     "name": "stdout",
     "output_type": "stream",
     "text": [
      "20\n"
     ]
    }
   ],
   "source": [
    "# tipe data Integer\n",
    "print(20)"
   ]
  },
  {
   "cell_type": "code",
   "execution_count": 4,
   "id": "d62f6a78",
   "metadata": {},
   "outputs": [
    {
     "name": "stdout",
     "output_type": "stream",
     "text": [
      "3.14\n"
     ]
    }
   ],
   "source": [
    "# tipe data Float\n",
    "print(3.14)"
   ]
  },
  {
   "cell_type": "code",
   "execution_count": 5,
   "id": "eafc7445",
   "metadata": {},
   "outputs": [
    {
     "name": "stdout",
     "output_type": "stream",
     "text": [
      "[1, 2, 3, 4, 5]\n",
      "['satu', 'dua', 'tiga']\n"
     ]
    }
   ],
   "source": [
    "# tipe data List\n",
    "print([1,2,3,4,5])\n",
    "print([\"satu\", \"dua\", \"tiga\"])"
   ]
  },
  {
   "cell_type": "code",
   "execution_count": 6,
   "id": "8fe317eb",
   "metadata": {},
   "outputs": [
    {
     "name": "stdout",
     "output_type": "stream",
     "text": [
      "(1, 2, 3, 4, 5)\n",
      "('satu', 'dua', 'tiga')\n"
     ]
    }
   ],
   "source": [
    "#tipe data Tuple\n",
    "print((1,2,3,4,5))\n",
    "print((\"satu\", \"dua\", \"tiga\"))"
   ]
  },
  {
   "cell_type": "code",
   "execution_count": 7,
   "id": "5349ce4c",
   "metadata": {},
   "outputs": [
    {
     "name": "stdout",
     "output_type": "stream",
     "text": [
      "{'nama': 'Budi', 'umur': 20}\n"
     ]
    }
   ],
   "source": [
    "#tipe data Dictionary\n",
    "print({\"nama\":\"Budi\", 'umur':20})"
   ]
  },
  {
   "cell_type": "code",
   "execution_count": 8,
   "id": "a8479b50",
   "metadata": {},
   "outputs": [
    {
     "name": "stdout",
     "output_type": "stream",
     "text": [
      "{'nama': 'Andi', 'umur': 21}\n"
     ]
    },
    {
     "data": {
      "text/plain": [
       "dict"
      ]
     },
     "execution_count": 8,
     "metadata": {},
     "output_type": "execute_result"
    }
   ],
   "source": [
    "# tipe data Dictionary dimasukan ke dalam variabel biodata\n",
    "biodata = {\"nama\":\"Andi\", 'umur':21} #proses inisialisasi variabel biodata\n",
    "print(biodata) #proses pencetakan variabel biodata yang berisi tipe data Dictionary\n",
    "type(biodata) #fungsi untuk mengecek jenis tipe data. akan tampil <class 'dict'>"
   ]
  }
 ],
 "metadata": {
  "kernelspec": {
   "display_name": "Python 3 (ipykernel)",
   "language": "python",
   "name": "python3"
  },
  "language_info": {
   "codemirror_mode": {
    "name": "ipython",
    "version": 3
   },
   "file_extension": ".py",
   "mimetype": "text/x-python",
   "name": "python",
   "nbconvert_exporter": "python",
   "pygments_lexer": "ipython3",
   "version": "3.10.0"
  }
 },
 "nbformat": 4,
 "nbformat_minor": 5
}
