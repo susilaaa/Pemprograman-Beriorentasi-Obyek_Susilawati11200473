{
 "sel": [
  {
   "cell_type": "kode",
   "penghitungan_eksekusi": 1,
   "id": "82c7d027",
   "metadata": {},
   "keluaran": [],
   "sumber": [
    "var_string=\"Mari belajar python\"\n",
    "var_int=10\n",
    "var_float=3.14\n",
    "var_list=[1,2,3,4]\n",
    "var_tuple=(\"satu\",\"dua\",\"tiga\")\n",
    "var_dict={\"nama\":\"Ali\", 'umur':20}"
   ]
  },
  {
   "cell_type": "kode",
   "penghitungan_eksekusi": 2,
   "id": "67547ef5",
   "metadata": {},
   "keluaran": [
    {
     "nama": "stdout",
     "output_type": "aliran",
     "teks": [
      "Mari belajar python\n",
      "10\n",
      "3.14\n",
      "[1, 2, 3, 4]\n",
      "('satu', 'dua', 'tiga')\n",
      "{'nama': 'Ali', 'umur': 20}\n"
     ]
    }
   ],
   "sumber": [
    "cetak(var_string)\n",
    "cetak(var_int)\n",
    "cetak(var_float)\n",
    "cetak(daftar_var)\n",
    "cetak(var_tuple)\n",
    "cetak(var_dict)"
   ]
  },
  {
   "cell_type": "kode",
   "penghitungan_eksekusi": 3,
   "id": "5923aeb9",
   "metadata": {},
   "keluaran": [
    {
     "nama": "stdout",
     "output_type": "aliran",
     "teks": [
      "<kelas 'str'>\n",
      "<kelas 'int'>\n",
      "<kelas 'mengambang'>\n",
      "<kelas 'daftar'>\n",
      "<kelas 'tupel'>\n",
      "<kelas 'dict'>\n"
     ]
    }
   ],
   "sumber": [
    "cetak(tipe(var_string))\n",
    "cetak(tipe(var_int))\n",
    "cetak(ketik(var_float))\n",
    "cetak(tipe(var_list))\n",
    "cetak(tipe(var_tuple))\n",
    "cetak(ketik(var_dict))"
   ]
  }
 ],
 "metadata": {
  "spesifikasi kernel": {
   "display_name": "Python 3 (ipykernel)",
   "bahasa": "python",
   "nama": "python3"
  },
  "bahasa_info": {
   "codemirror_mode": {
    "nama": "ipython",
    "versi": 3
   },
   "file_extension": ".py",
   "mimetype": "teks/x-python",
   "nama": "python",
   "nbconvert_exporter": "python",
   "pygments_lexer": "ipython3",
   "versi": "3.10.0"
  }
 }
 "format nb": 4,
 "nbformat_minor": 5
}
