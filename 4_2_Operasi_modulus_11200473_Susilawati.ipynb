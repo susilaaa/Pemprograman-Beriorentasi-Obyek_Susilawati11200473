{
 "cells": [
  {
   "cell_type": "code",
   "execution_count": 6,
   "id": "a546b6b9",
   "metadata": {},
   "outputs": [
    {
     "name": "stdout",
     "output_type": "stream",
     "text": [
      "1\n",
      "Hasil modulus adalah 1\n"
     ]
    }
   ],
   "source": [
    "##Jawaban Tugas Praktek 3.2\n",
    "\n",
    "#Pengisian nilai c dengan 10 dan d dengan 3\n",
    "c = 10\n",
    "d = 3\n",
    "\n",
    "#Operasi Modulus\n",
    "Modulus = c % d\n",
    "print(10%3)\n",
    "print(\"Hasil modulus adalah\", 1)"
   ]
  },
  {
   "cell_type": "code",
   "execution_count": 7,
   "id": "671e06a0",
   "metadata": {},
   "outputs": [
    {
     "name": "stdout",
     "output_type": "stream",
     "text": [
      "Kenapa modulus bisa seperti itu?\n",
      "Karena Operator Modulus sendiri merupakan fungsi yang akan menghitung sisa dari hasil pembagian. Contoh seperti di atas => 10 : 3 = 3 sisa 1. Sisa angka 1 tersebut merupakan modulus.\n"
     ]
    }
   ],
   "source": [
    "#Soal\n",
    "print(\"Kenapa modulus bisa seperti itu?\") #(berikan jawaban anda pada cell teks dibawah ini)\n",
    "\n",
    "##Jawaban Keterangan\n",
    "print(\"Karena Operator Modulus sendiri merupakan fungsi yang akan menghitung sisa dari hasil pembagian. Contoh seperti di atas => 10 : 3 = 3 sisa 1. Sisa angka 1 tersebut merupakan modulus.\")"
   ]
  }
 ],
 "metadata": {
  "kernelspec": {
   "display_name": "Python 3 (ipykernel)",
   "language": "python",
   "name": "python3"
  },
  "language_info": {
   "codemirror_mode": {
    "name": "ipython",
    "version": 3
   },
   "file_extension": ".py",
   "mimetype": "text/x-python",
   "name": "python",
   "nbconvert_exporter": "python",
   "pygments_lexer": "ipython3",
   "version": "3.9.5"
  }
 },
 "nbformat": 4,
 "nbformat_minor": 5
}
